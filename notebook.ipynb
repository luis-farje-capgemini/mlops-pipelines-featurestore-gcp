{
 "cells": [
  {
   "cell_type": "markdown",
   "metadata": {},
   "source": [
    "### MLOps using Kubeflow and Feature Store\n",
    "\n"
   ]
  },
  {
   "cell_type": "markdown",
   "metadata": {},
   "source": [
    "#### Before start\n",
    "- Google Cloud Storage Bucket / Pipelines / Feature Store must be created on same region {suggested: europe-west3(Frankfurt)}\n",
    "- Pipelines considerations when failing if jobs is \"in progress\", needs to improve adding code until previous import is done\n",
    "- Some issues with $tfx 2.7 so needed to downgrade to 2.5\n",
    "- Align on aiplatform sdk\n",
    "- Have good mlops use case for using feature store serving (costs)"
   ]
  },
  {
   "cell_type": "code",
   "execution_count": null,
   "metadata": {},
   "outputs": [],
   "source": [
    "import os\n",
    "\n",
    "# Google Cloud Notebook\n",
    "if os.path.exists(\"/opt/deeplearning/metadata/env_version\"):\n",
    "    USER_FLAG = \"--user\"\n",
    "else:\n",
    "    USER_FLAG = \"\""
   ]
  },
  {
   "cell_type": "code",
   "execution_count": null,
   "metadata": {},
   "outputs": [],
   "source": [
    "# %unload_ext nb_black\n",
    "# # magic cmd to autoformat code\n",
    "# #!pip install nb_black\n",
    "\n",
    "# ! pip3 install {USER_FLAG} google-cloud-aiplatform==1.1.1\n",
    "# ! pip3 install {USER_FLAG} google-cloud-pipeline-components==0.1.3\n",
    "# ! pip3 install {USER_FLAG} --upgrade kfp\n",
    "# ! pip3 install {USER_FLAG} numpy==1.20.3\n",
    "# ! pip3 install --upgrade tensorflow\n",
    "# ! pip3 install tf-nightly"
   ]
  },
  {
   "cell_type": "markdown",
   "metadata": {},
   "source": [
    "##IMPORTS FOR ENVIRONMENT"
   ]
  },
  {
   "cell_type": "code",
   "execution_count": null,
   "metadata": {},
   "outputs": [],
   "source": [
    "import os\n",
    "import sys\n",
    "\n",
    "from google_cloud_pipeline_components import aiplatform as gcc_aip\n",
    "\n",
    "from kfp.v2 import compiler, dsl\n",
    "from kfp.v2.google.client import AIPlatformClient\n",
    "from google.cloud.aiplatform_v1 import (\n",
    "    FeaturestoreOnlineServingServiceClient,\n",
    "    FeaturestoreServiceClient,\n",
    ")\n",
    "from google.cloud.aiplatform_v1.types import FeatureSelector, IdMatcher\n",
    "from google.cloud.aiplatform_v1.types import entity_type as entity_type_pb2\n",
    "from google.cloud.aiplatform_v1.types import feature as feature_pb2\n",
    "from google.cloud.aiplatform_v1.types import featurestore as featurestore_pb2\n",
    "from google.cloud.aiplatform_v1.types import (\n",
    "    featurestore_online_service as featurestore_online_service_pb2,\n",
    ")\n",
    "from google.cloud.aiplatform_v1.types import (\n",
    "    featurestore_service as featurestore_service_pb2,\n",
    ")\n",
    "from google.cloud.aiplatform_v1.types import io as io_pb2\n",
    "from google.protobuf.duration_pb2 import Duration\n",
    "from google.cloud import aiplatform\n",
    "from src.trainer import trainer_component\n",
    "from src.generator import generator_component\n",
    "from src.ingester import ingester_component\n",
    "from src import load_component\n",
    "import importlib\n",
    "from src import feature_store_helper"
   ]
  }
 ],
 "metadata": {
  "interpreter": {
   "hash": "77e81ca774b11d7c56e2cca515643be85a0de53eafc7203808e7c65d1c7cb7e5"
  },
  "kernelspec": {
   "display_name": "Python 3.8.0 64-bit ('3.8.0')",
   "language": "python",
   "name": "python3"
  },
  "language_info": {
   "name": "python",
   "version": "3.8.0"
  },
  "orig_nbformat": 4
 },
 "nbformat": 4,
 "nbformat_minor": 2
}
