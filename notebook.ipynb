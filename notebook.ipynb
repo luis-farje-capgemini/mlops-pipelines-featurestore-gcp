{
 "cells": [
  {
   "cell_type": "markdown",
   "metadata": {},
   "source": [
    "### MLOps using Kubeflow and Feature Store\n",
    "\n"
   ]
  },
  {
   "cell_type": "markdown",
   "metadata": {},
   "source": [
    "#### Before start\n",
    "- Google Cloud Storage Bucket / Pipelines / Feature Store must be created on same region {suggested: europe-west3(Frankfurt)}\n",
    "- Pipelines considerations when failing if jobs is \"in progress\", needs to improve adding code until previous import is done\n",
    "- Some issues with $tfx 2.7 so needed to downgrade to 2.5\n",
    "- Align on aiplatform sdk\n",
    "- Have good mlops use case for using feature store serving (costs)"
   ]
  },
  {
   "cell_type": "code",
   "execution_count": null,
   "metadata": {},
   "outputs": [],
   "source": [
    "# %unload_ext nb_black\n",
    "# # magic cmd to autoformat code\n",
    "# #!pip install nb_black\n",
    "\n",
    "# ! pip3 install {USER_FLAG} google-cloud-aiplatform==1.1.1\n",
    "# ! pip3 install {USER_FLAG} google-cloud-pipeline-components==0.1.3\n",
    "# ! pip3 install {USER_FLAG} --upgrade kfp\n",
    "# ! pip3 install {USER_FLAG} numpy==1.20.3\n",
    "# ! pip3 install --upgrade tensorflow\n",
    "# ! pip3 install tf-nightly"
   ]
  }
 ],
 "metadata": {
  "interpreter": {
   "hash": "77e81ca774b11d7c56e2cca515643be85a0de53eafc7203808e7c65d1c7cb7e5"
  },
  "kernelspec": {
   "display_name": "Python 3.8.0 64-bit ('3.8.0')",
   "language": "python",
   "name": "python3"
  },
  "language_info": {
   "name": "python",
   "version": "3.8.0"
  },
  "orig_nbformat": 4
 },
 "nbformat": 4,
 "nbformat_minor": 2
}
